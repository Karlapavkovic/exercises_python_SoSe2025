{
 "cells": [
  {
   "cell_type": "code",
   "execution_count": 1,
   "id": "817b49ac-17a6-4649-ad6a-9b64678df843",
   "metadata": {},
   "outputs": [],
   "source": [
    "import pandas as pd\n",
    "import matplotlib.pyplot as plt"
   ]
  },
  {
   "cell_type": "code",
   "execution_count": 3,
   "id": "0f0cfb60-281a-4344-a49f-9dc19cb5193e",
   "metadata": {},
   "outputs": [],
   "source": [
    "# Daten importieren\n",
    "file = 'data/TSLA.csv'\n",
    "\n",
    "df = pd.read_csv(file, decimal = '.', sep =',')\n"
   ]
  },
  {
   "cell_type": "code",
   "execution_count": 7,
   "id": "d7681d9f-993c-4d40-ae70-d9ae1e25defa",
   "metadata": {},
   "outputs": [
    {
     "data": {
      "text/html": [
       "<div>\n",
       "<style scoped>\n",
       "    .dataframe tbody tr th:only-of-type {\n",
       "        vertical-align: middle;\n",
       "    }\n",
       "\n",
       "    .dataframe tbody tr th {\n",
       "        vertical-align: top;\n",
       "    }\n",
       "\n",
       "    .dataframe thead th {\n",
       "        text-align: right;\n",
       "    }\n",
       "</style>\n",
       "<table border=\"1\" class=\"dataframe\">\n",
       "  <thead>\n",
       "    <tr style=\"text-align: right;\">\n",
       "      <th></th>\n",
       "      <th>Date</th>\n",
       "      <th>Open</th>\n",
       "      <th>High</th>\n",
       "      <th>Low</th>\n",
       "      <th>Close</th>\n",
       "      <th>Adj Close</th>\n",
       "      <th>Volume</th>\n",
       "    </tr>\n",
       "  </thead>\n",
       "  <tbody>\n",
       "    <tr>\n",
       "      <th>3355</th>\n",
       "      <td>2023-10-26</td>\n",
       "      <td>211.320007</td>\n",
       "      <td>214.800003</td>\n",
       "      <td>204.880005</td>\n",
       "      <td>205.759995</td>\n",
       "      <td>205.759995</td>\n",
       "      <td>115112600</td>\n",
       "    </tr>\n",
       "    <tr>\n",
       "      <th>3356</th>\n",
       "      <td>2023-10-27</td>\n",
       "      <td>210.600006</td>\n",
       "      <td>212.410004</td>\n",
       "      <td>205.770004</td>\n",
       "      <td>207.300003</td>\n",
       "      <td>207.300003</td>\n",
       "      <td>94881200</td>\n",
       "    </tr>\n",
       "    <tr>\n",
       "      <th>3357</th>\n",
       "      <td>2023-10-30</td>\n",
       "      <td>209.279999</td>\n",
       "      <td>210.880005</td>\n",
       "      <td>194.669998</td>\n",
       "      <td>197.360001</td>\n",
       "      <td>197.360001</td>\n",
       "      <td>136448200</td>\n",
       "    </tr>\n",
       "    <tr>\n",
       "      <th>3358</th>\n",
       "      <td>2023-10-31</td>\n",
       "      <td>196.119995</td>\n",
       "      <td>202.800003</td>\n",
       "      <td>194.070007</td>\n",
       "      <td>200.839996</td>\n",
       "      <td>200.839996</td>\n",
       "      <td>118068300</td>\n",
       "    </tr>\n",
       "    <tr>\n",
       "      <th>3359</th>\n",
       "      <td>2023-11-01</td>\n",
       "      <td>204.039993</td>\n",
       "      <td>205.990005</td>\n",
       "      <td>197.850006</td>\n",
       "      <td>205.660004</td>\n",
       "      <td>205.660004</td>\n",
       "      <td>121661700</td>\n",
       "    </tr>\n",
       "    <tr>\n",
       "      <th>3360</th>\n",
       "      <td>2023-11-02</td>\n",
       "      <td>212.970001</td>\n",
       "      <td>219.199997</td>\n",
       "      <td>211.449997</td>\n",
       "      <td>218.509995</td>\n",
       "      <td>218.509995</td>\n",
       "      <td>125987600</td>\n",
       "    </tr>\n",
       "    <tr>\n",
       "      <th>3361</th>\n",
       "      <td>2023-11-03</td>\n",
       "      <td>221.149994</td>\n",
       "      <td>226.369995</td>\n",
       "      <td>218.399994</td>\n",
       "      <td>219.960007</td>\n",
       "      <td>219.960007</td>\n",
       "      <td>119281000</td>\n",
       "    </tr>\n",
       "    <tr>\n",
       "      <th>3362</th>\n",
       "      <td>2023-11-06</td>\n",
       "      <td>223.979996</td>\n",
       "      <td>226.320007</td>\n",
       "      <td>215.000000</td>\n",
       "      <td>219.270004</td>\n",
       "      <td>219.270004</td>\n",
       "      <td>117335800</td>\n",
       "    </tr>\n",
       "    <tr>\n",
       "      <th>3363</th>\n",
       "      <td>2023-11-07</td>\n",
       "      <td>219.979996</td>\n",
       "      <td>223.119995</td>\n",
       "      <td>215.720001</td>\n",
       "      <td>222.179993</td>\n",
       "      <td>222.179993</td>\n",
       "      <td>116900100</td>\n",
       "    </tr>\n",
       "    <tr>\n",
       "      <th>3364</th>\n",
       "      <td>2023-11-08</td>\n",
       "      <td>223.149994</td>\n",
       "      <td>224.149994</td>\n",
       "      <td>217.639999</td>\n",
       "      <td>222.110001</td>\n",
       "      <td>222.110001</td>\n",
       "      <td>106380700</td>\n",
       "    </tr>\n",
       "  </tbody>\n",
       "</table>\n",
       "</div>"
      ],
      "text/plain": [
       "            Date        Open        High         Low       Close   Adj Close  \\\n",
       "3355  2023-10-26  211.320007  214.800003  204.880005  205.759995  205.759995   \n",
       "3356  2023-10-27  210.600006  212.410004  205.770004  207.300003  207.300003   \n",
       "3357  2023-10-30  209.279999  210.880005  194.669998  197.360001  197.360001   \n",
       "3358  2023-10-31  196.119995  202.800003  194.070007  200.839996  200.839996   \n",
       "3359  2023-11-01  204.039993  205.990005  197.850006  205.660004  205.660004   \n",
       "3360  2023-11-02  212.970001  219.199997  211.449997  218.509995  218.509995   \n",
       "3361  2023-11-03  221.149994  226.369995  218.399994  219.960007  219.960007   \n",
       "3362  2023-11-06  223.979996  226.320007  215.000000  219.270004  219.270004   \n",
       "3363  2023-11-07  219.979996  223.119995  215.720001  222.179993  222.179993   \n",
       "3364  2023-11-08  223.149994  224.149994  217.639999  222.110001  222.110001   \n",
       "\n",
       "         Volume  \n",
       "3355  115112600  \n",
       "3356   94881200  \n",
       "3357  136448200  \n",
       "3358  118068300  \n",
       "3359  121661700  \n",
       "3360  125987600  \n",
       "3361  119281000  \n",
       "3362  117335800  \n",
       "3363  116900100  \n",
       "3364  106380700  "
      ]
     },
     "execution_count": 7,
     "metadata": {},
     "output_type": "execute_result"
    }
   ],
   "source": [
    "df.tail(10)"
   ]
  },
  {
   "cell_type": "code",
   "execution_count": 5,
   "id": "d736421c-f422-460f-9106-ec5ae0483196",
   "metadata": {},
   "outputs": [
    {
     "data": {
      "text/html": [
       "<div>\n",
       "<style scoped>\n",
       "    .dataframe tbody tr th:only-of-type {\n",
       "        vertical-align: middle;\n",
       "    }\n",
       "\n",
       "    .dataframe tbody tr th {\n",
       "        vertical-align: top;\n",
       "    }\n",
       "\n",
       "    .dataframe thead th {\n",
       "        text-align: right;\n",
       "    }\n",
       "</style>\n",
       "<table border=\"1\" class=\"dataframe\">\n",
       "  <thead>\n",
       "    <tr style=\"text-align: right;\">\n",
       "      <th></th>\n",
       "      <th>Date</th>\n",
       "      <th>Open</th>\n",
       "      <th>High</th>\n",
       "      <th>Low</th>\n",
       "      <th>Close</th>\n",
       "      <th>Adj Close</th>\n",
       "      <th>Volume</th>\n",
       "    </tr>\n",
       "  </thead>\n",
       "  <tbody>\n",
       "    <tr>\n",
       "      <th>0</th>\n",
       "      <td>2010-06-29</td>\n",
       "      <td>1.266667</td>\n",
       "      <td>1.666667</td>\n",
       "      <td>1.169333</td>\n",
       "      <td>1.592667</td>\n",
       "      <td>1.592667</td>\n",
       "      <td>281494500</td>\n",
       "    </tr>\n",
       "    <tr>\n",
       "      <th>1</th>\n",
       "      <td>2010-06-30</td>\n",
       "      <td>1.719333</td>\n",
       "      <td>2.028000</td>\n",
       "      <td>1.553333</td>\n",
       "      <td>1.588667</td>\n",
       "      <td>1.588667</td>\n",
       "      <td>257806500</td>\n",
       "    </tr>\n",
       "    <tr>\n",
       "      <th>2</th>\n",
       "      <td>2010-07-01</td>\n",
       "      <td>1.666667</td>\n",
       "      <td>1.728000</td>\n",
       "      <td>1.351333</td>\n",
       "      <td>1.464000</td>\n",
       "      <td>1.464000</td>\n",
       "      <td>123282000</td>\n",
       "    </tr>\n",
       "  </tbody>\n",
       "</table>\n",
       "</div>"
      ],
      "text/plain": [
       "         Date      Open      High       Low     Close  Adj Close     Volume\n",
       "0  2010-06-29  1.266667  1.666667  1.169333  1.592667   1.592667  281494500\n",
       "1  2010-06-30  1.719333  2.028000  1.553333  1.588667   1.588667  257806500\n",
       "2  2010-07-01  1.666667  1.728000  1.351333  1.464000   1.464000  123282000"
      ]
     },
     "execution_count": 5,
     "metadata": {},
     "output_type": "execute_result"
    }
   ],
   "source": [
    "df.head(3)"
   ]
  },
  {
   "cell_type": "code",
   "execution_count": 8,
   "id": "ddc2ca89-cf36-4d93-b5cd-df27ac72e9ae",
   "metadata": {},
   "outputs": [
    {
     "data": {
      "text/plain": [
       "Date          object\n",
       "Open         float64\n",
       "High         float64\n",
       "Low          float64\n",
       "Close        float64\n",
       "Adj Close    float64\n",
       "Volume         int64\n",
       "dtype: object"
      ]
     },
     "execution_count": 8,
     "metadata": {},
     "output_type": "execute_result"
    }
   ],
   "source": [
    "df.dtypes"
   ]
  },
  {
   "cell_type": "code",
   "execution_count": 9,
   "id": "2621dcc8-1cc3-42c8-896c-4b4a1d3ff608",
   "metadata": {},
   "outputs": [],
   "source": [
    "df = df[['Date', 'Close']]"
   ]
  },
  {
   "cell_type": "code",
   "execution_count": 16,
   "id": "9d10a8bf-ef20-4e46-a263-c1532bc918d5",
   "metadata": {},
   "outputs": [],
   "source": [
    "df['Date'] = pd.to_datetime(df['Date'], format = '%Y-%m-%d')"
   ]
  },
  {
   "cell_type": "code",
   "execution_count": 18,
   "id": "23a9fd30-403c-4c3d-aef8-69fbb5b0114a",
   "metadata": {},
   "outputs": [
    {
     "data": {
      "text/plain": [
       "Date     datetime64[ns]\n",
       "Close           float64\n",
       "dtype: object"
      ]
     },
     "execution_count": 18,
     "metadata": {},
     "output_type": "execute_result"
    }
   ],
   "source": [
    "df.dtypes"
   ]
  },
  {
   "cell_type": "code",
   "execution_count": 19,
   "id": "aa5650b5-748e-4205-97ef-1bab63e9e193",
   "metadata": {},
   "outputs": [
    {
     "data": {
      "text/plain": [
       "(250, 2)"
      ]
     },
     "execution_count": 19,
     "metadata": {},
     "output_type": "execute_result"
    }
   ],
   "source": [
    "df_2022 = df[(df['Date'] >= '2022-01-03') & (df['Date'] < '2022-12-30')]\n",
    "df_2022.shape"
   ]
  },
  {
   "cell_type": "code",
   "execution_count": 20,
   "id": "8d74d702-c991-4d8e-874c-251477676d6a",
   "metadata": {},
   "outputs": [
    {
     "data": {
      "image/png": "[encoded data removed]",
      "text/plain": [
       "<Figure size 640x480 with 1 Axes>"
      ]
     },
     "metadata": {},
     "output_type": "display_data"
    }
   ],
   "source": [
    "#Abbildung\n",
    "x = df_2022['Date']\n",
    "y = df_2022['Close']\n",
    "plt.plot(x, y, label = 'Closing price')\n",
    "plt.xticks(rotation = 45)\n",
    "plt.title('Tesla, Inc. (TSLA)')\n",
    "plt.legend();"
   ]
  }
 ],
 "metadata": {
  "kernelspec": {
   "display_name": "Python 3 (ipykernel)",
   "language": "python",
   "name": "python3"
  },
  "language_info": {
   "codemirror_mode": {
    "name": "ipython",
    "version": 3
   },
   "file_extension": ".py",
   "mimetype": "text/x-python",
   "name": "python",
   "nbconvert_exporter": "python",
   "pygments_lexer": "ipython3",
   "version": "3.11.11"
  }
 },
 "nbformat": 4,
 "nbformat_minor": 5
}
